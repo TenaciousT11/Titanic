{
 "cells": [
  {
   "cell_type": "code",
   "execution_count": 351,
   "metadata": {
    "collapsed": false
   },
   "outputs": [],
   "source": [
    "#loading all the packages that will be needed\n",
    "import numpy as np\n",
    "import pandas as pd\n",
    "import csv as csv\n",
    "from sklearn.ensemble import RandomForestClassifier\n",
    "import matplotlib.pyplot as plt"
   ]
  },
  {
   "cell_type": "code",
   "execution_count": 352,
   "metadata": {
    "collapsed": false
   },
   "outputs": [],
   "source": [
    "#load full dataset\n",
    "full_data = pd.read_csv('/home/tmorrill/Documents/Titanic/titanic_full.csv', header=0)"
   ]
  },
  {
   "cell_type": "code",
   "execution_count": 353,
   "metadata": {
    "collapsed": true
   },
   "outputs": [],
   "source": [
    "#explore the data with a bar chart for gender\n",
    "male = sum(sum([full_data.sex == \"male\"]))\n",
    "female = sum(sum([full_data.sex == \"female\"]))\n",
    "x = range(2)\n",
    "y = [female, male]\n",
    "labels = [\"Females\",\"Males\"]\n",
    "plt.bar(x,y, width=0.8, align='center')\n",
    "plt.xticks(x, labels)\n",
    "plt.xlabel('Gender')\n",
    "plt.ylabel('Count of Gender')\n",
    "plt.title('Count of Gender')\n",
    "plt.show()"
   ]
  },
  {
   "cell_type": "code",
   "execution_count": 354,
   "metadata": {
    "collapsed": false
   },
   "outputs": [],
   "source": [
    "#explore the distribution of ages\n",
    "ages = full_data.age\n",
    "bins = [0,10,20,30,40,50,60,70,80,90]\n",
    "\n",
    "plt.hist(ages, bins, histtype='bar', rwidth=0.8, color='c')\n",
    "plt.xlabel('Ages')\n",
    "plt.ylabel('Count')\n",
    "plt.show()"
   ]
  },
  {
   "cell_type": "code",
   "execution_count": 355,
   "metadata": {
    "collapsed": true
   },
   "outputs": [],
   "source": [
    "#explore the distribution of fares\n",
    "fares = full_data.fare\n",
    "bins_fares = [0,5,10,15,20,25,30,40,60,80,120,160,200,240,280]\n",
    "\n",
    "plt.hist(fares, bins_fares, histtype='bar', rwidth=0.8, color='c')\n",
    "plt.xlabel('Fares')\n",
    "plt.ylabel('Count')\n",
    "plt.show()"
   ]
  },
  {
   "cell_type": "code",
   "execution_count": 356,
   "metadata": {
    "collapsed": false
   },
   "outputs": [],
   "source": [
    "#explore the data with a bar chart for pclass\n",
    "first_class = sum(sum([full_data.pclass == 1]))\n",
    "second_class = sum(sum([full_data.pclass == 2]))\n",
    "third_class = sum(sum([full_data.pclass == 3]))\n",
    "\n",
    "x = range(3)\n",
    "y = [first_class, second_class, third_class]\n",
    "labels = [\"First\",\"Second\", \"Third\"]\n",
    "plt.bar(x,y, width=0.8, align='center')\n",
    "plt.xticks(x, labels)\n",
    "plt.xlabel('Class')\n",
    "plt.ylabel('Count of Class')\n",
    "plt.title('Class Breakdown')\n",
    "plt.show()"
   ]
  },
  {
   "cell_type": "code",
   "execution_count": 357,
   "metadata": {
    "collapsed": true
   },
   "outputs": [],
   "source": [
    "#convert the objects to integer classifiers\n",
    "#create a new variable, Gender, converting sex to 0 and 1\n",
    "full_data['Gender'] = full_data['sex'].map( {'female':0, 'male':1} ).astype(int)"
   ]
  },
  {
   "cell_type": "code",
   "execution_count": 358,
   "metadata": {
    "collapsed": false
   },
   "outputs": [
    {
     "name": "stderr",
     "output_type": "stream",
     "text": [
      "/home/tmorrill/anaconda/lib/python2.7/site-packages/IPython/kernel/__main__.py:3: SettingWithCopyWarning: \n",
      "A value is trying to be set on a copy of a slice from a DataFrame\n",
      "\n",
      "See the the caveats in the documentation: http://pandas.pydata.org/pandas-docs/stable/indexing.html#indexing-view-versus-copy\n",
      "  app.launch_new_instance()\n"
     ]
    }
   ],
   "source": [
    "#fill in the missing values of embarked with the most common port of embarkment\n",
    "if len(full_data.embarked[ full_data.embarked.isnull() ]) > 0:\n",
    "    full_data.embarked[ full_data.embarked.isnull() ] = full_data.embarked.dropna().mode().values"
   ]
  },
  {
   "cell_type": "code",
   "execution_count": 359,
   "metadata": {
    "collapsed": false
   },
   "outputs": [],
   "source": [
    "#find the unique embarked values\n",
    "port = list(enumerate(np.unique(full_data['embarked'])))\n",
    "\n",
    "#change the port of embarkment to an integer classifier\n",
    "full_data['embarkment'] = full_data['embarked'].map( {'C':0, 'Q':1, 'S':2} ).astype(int)"
   ]
  },
  {
   "cell_type": "code",
   "execution_count": 360,
   "metadata": {
    "collapsed": true
   },
   "outputs": [],
   "source": [
    "#fill in missing age values with the median age\n",
    "median_age = full_data['age'].dropna().median()\n",
    "if len(full_data.age[ full_data.age.isnull() ] > 0):\n",
    "    full_data.loc[ (full_data.age.isnull()), 'age'] = median_age"
   ]
  },
  {
   "cell_type": "code",
   "execution_count": 361,
   "metadata": {
    "collapsed": false
   },
   "outputs": [],
   "source": [
    "#replace the null fare values with the median of that class\n",
    "if len(full_data.fare[ full_data.fare.isnull() ]) > 0:\n",
    "#creates a array of 3 zeros\n",
    "    median_fare = np.zeros(3)\n",
    "#defines the median for each class    \n",
    "    for i in range(0,3):\n",
    "        median_fare[i] = full_data[ full_data.pclass == i+1 ]['fare'].dropna().median()\n",
    "#for null values, assigns the median value for that particular class\n",
    "    for i in range(0,3):\n",
    "        full_data.loc[ (full_data.fare.isnull()) & (full_data.pclass == i+1), 'fare'] = median_fare[i]"
   ]
  },
  {
   "cell_type": "code",
   "execution_count": 362,
   "metadata": {
    "collapsed": false
   },
   "outputs": [],
   "source": [
    "#drop the data that we won't be using\n",
    "full_data = full_data.drop(['name', 'sex', 'ticket', 'cabin', 'embarked', 'boat', 'home.dest', 'body'], axis =1)"
   ]
  },
  {
   "cell_type": "code",
   "execution_count": 363,
   "metadata": {
    "collapsed": true
   },
   "outputs": [],
   "source": [
    "#split the training and test data at 70% and 30%, respectively\n",
    "from sklearn.cross_validation import train_test_split\n",
    "\n",
    "data_train, data_test = train_test_split(full_data, test_size=0.30)"
   ]
  },
  {
   "cell_type": "code",
   "execution_count": 364,
   "metadata": {
    "collapsed": false
   },
   "outputs": [],
   "source": [
    "#create a list of the true values so that the model can be scored\n",
    "true_values = data_test['survived']"
   ]
  },
  {
   "cell_type": "code",
   "execution_count": 365,
   "metadata": {
    "collapsed": true
   },
   "outputs": [],
   "source": [
    "#convert to a numpy array\n",
    "true_values1 = true_values.values"
   ]
  },
  {
   "cell_type": "code",
   "execution_count": 366,
   "metadata": {
    "collapsed": false
   },
   "outputs": [],
   "source": [
    "#drop the survived column from the test data\n",
    "data_test = data_test.drop(['survived'], axis=1)"
   ]
  },
  {
   "cell_type": "code",
   "execution_count": 367,
   "metadata": {
    "collapsed": false
   },
   "outputs": [],
   "source": [
    "#create a list of model features to be evaluated for their importance\n",
    "feature_names = list(data_test.columns.values)"
   ]
  },
  {
   "cell_type": "code",
   "execution_count": 368,
   "metadata": {
    "collapsed": false
   },
   "outputs": [],
   "source": [
    "#convert the data back to numpy arrays\n",
    "train_data = data_train.values\n",
    "test_data = data_test.values"
   ]
  },
  {
   "cell_type": "code",
   "execution_count": 369,
   "metadata": {
    "collapsed": true
   },
   "outputs": [],
   "source": [
    "#create the forest variable with 100 trees\n",
    "forest = RandomForestClassifier(n_estimators=100)\n",
    "#fit the model with the training data\n",
    "forest = forest.fit(train_data[0::,1::], train_data[0::,0] )"
   ]
  },
  {
   "cell_type": "code",
   "execution_count": 370,
   "metadata": {
    "collapsed": false
   },
   "outputs": [],
   "source": [
    "#predict survived/not survived using the test data\n",
    "output = forest.predict(test_data).astype(int)"
   ]
  },
  {
   "cell_type": "code",
   "execution_count": 371,
   "metadata": {
    "collapsed": false
   },
   "outputs": [
    {
     "data": {
      "text/plain": [
       "0.80152671755725191"
      ]
     },
     "execution_count": 371,
     "metadata": {},
     "output_type": "execute_result"
    }
   ],
   "source": [
    "#evaluate the results of the model\n",
    "model_results = forest.score(test_data, true_values1, sample_weight=None)\n",
    "model_results"
   ]
  },
  {
   "cell_type": "code",
   "execution_count": 372,
   "metadata": {
    "collapsed": false
   },
   "outputs": [
    {
     "name": "stdout",
     "output_type": "stream",
     "text": [
      "Feature ranking:\n",
      "1. age (0.270027)\n",
      "2. sibsp (0.269456)\n",
      "3. parch (0.256993)\n",
      "4. pclass (0.078352)\n",
      "5. fare (0.052165)\n",
      "6. Gender (0.041506)\n",
      "7. embarkment (0.031499)\n"
     ]
    }
   ],
   "source": [
    "#identify the most predictive/important variables\n",
    "importances = list(forest.feature_importances_)\n",
    "np.asarray(importances)\n",
    "#combine the list of variable names with their importance scores\n",
    "mergedlist = zip(feature_names,importances)\n",
    "indices = np.argsort(importances)[::-1]\n",
    "\n",
    "print(\"Feature ranking:\")\n",
    "for f in range(7):\n",
    "    print(\"%d. %s (%f)\" % (f + 1, feature_names[f], importances[indices[f]]))"
   ]
  },
  {
   "cell_type": "code",
   "execution_count": 373,
   "metadata": {
    "collapsed": false
   },
   "outputs": [],
   "source": [
    "# Plot the feature importances of the forest\n",
    "plt.figure()\n",
    "plt.title(\"Feature Importances\")\n",
    "plt.bar(range(7), importances, color=\"b\", align=\"center\")\n",
    "plt.xticks(range(7), feature_names)\n",
    "plt.xlim([-1, 7])\n",
    "plt.xlabel('Variables')\n",
    "plt.ylabel('Feature Importance')\n",
    "plt.show()"
   ]
  }
 ],
 "metadata": {
  "kernelspec": {
   "display_name": "Python 2",
   "language": "python",
   "name": "python2"
  },
  "language_info": {
   "codemirror_mode": {
    "name": "ipython",
    "version": 2
   },
   "file_extension": ".py",
   "mimetype": "text/x-python",
   "name": "python",
   "nbconvert_exporter": "python",
   "pygments_lexer": "ipython2",
   "version": "2.7.10"
  }
 },
 "nbformat": 4,
 "nbformat_minor": 0
}
